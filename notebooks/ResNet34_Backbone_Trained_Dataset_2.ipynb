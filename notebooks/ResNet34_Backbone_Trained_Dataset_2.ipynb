{
  "metadata": {
    "kernelspec": {
      "display_name": "Python 3",
      "name": "python3"
    },
    "language_info": {
      "name": "python",
      "version": "3.10.13",
      "mimetype": "text/x-python",
      "codemirror_mode": {
        "name": "ipython",
        "version": 3
      },
      "pygments_lexer": "ipython3",
      "nbconvert_exporter": "python",
      "file_extension": ".py"
    },
    "kaggle": {
      "accelerator": "none",
      "dataSources": [
        {
          "sourceId": 7859946,
          "sourceType": "datasetVersion",
          "datasetId": 4610581
        },
        {
          "sourceId": 7884876,
          "sourceType": "datasetVersion",
          "datasetId": 4628445
        }
      ],
      "dockerImageVersionId": 30664,
      "isInternetEnabled": false,
      "language": "python",
      "sourceType": "notebook",
      "isGpuEnabled": false
    },
    "colab": {
      "provenance": [],
      "gpuType": "T4"
    },
    "accelerator": "GPU"
  },
  "nbformat_minor": 0,
  "nbformat": 4,
  "cells": [
    {
      "cell_type": "code",
      "source": [
        "from google.colab import drive\n",
        "drive.mount('/content/gdrive')"
      ],
      "metadata": {
        "colab": {
          "base_uri": "https://localhost:8080/"
        },
        "id": "8R84HoM52D6B",
        "outputId": "5699207c-d5e0-4d1b-f39a-787ae8bba9ed"
      },
      "execution_count": null,
      "outputs": [
        {
          "output_type": "stream",
          "name": "stdout",
          "text": [
            "Mounted at /content/gdrive\n"
          ]
        }
      ]
    },
    {
      "cell_type": "code",
      "source": [
        "import os\n",
        "import numpy as np\n",
        "import pandas as pd\n",
        "import seaborn as sns\n",
        "import cv2\n",
        "from sklearn.model_selection import train_test_split\n",
        "import matplotlib.pyplot as plt\n",
        "import torch\n",
        "import torchvision"
      ],
      "metadata": {
        "execution": {
          "iopub.status.busy": "2024-03-19T12:03:07.677887Z",
          "iopub.execute_input": "2024-03-19T12:03:07.678419Z",
          "iopub.status.idle": "2024-03-19T12:03:07.685744Z",
          "shell.execute_reply.started": "2024-03-19T12:03:07.678383Z",
          "shell.execute_reply": "2024-03-19T12:03:07.684332Z"
        },
        "trusted": true,
        "id": "dCBk7VjSuvKK"
      },
      "execution_count": null,
      "outputs": []
    },
    {
      "cell_type": "code",
      "source": [
        "covid_directory = f'/content/gdrive/MyDrive/New Images for Classification/COVID-19'\n",
        "normal_directory = f'/content/gdrive/MyDrive/New Images for Classification/Normal'\n",
        "pneumonia_directory = f'/content/gdrive/MyDrive/New Images for Classification/Pneumonia'\n",
        "\n",
        "image_size = (224, 224)\n",
        "\n",
        "def load_images(directory):\n",
        "    class_images = []\n",
        "    for filename in os.listdir(directory):\n",
        "        image_path = os.path.join(directory, filename)\n",
        "        image = cv2.imread(image_path)\n",
        "        image = cv2.cvtColor(image, cv2.COLOR_BGR2RGB)\n",
        "        resized_image = cv2.resize(image, image_size)\n",
        "        resized_image = resized_image.astype(np.float32)\n",
        "        normalized_image = resized_image / 255.0\n",
        "        class_images.append(normalized_image)\n",
        "\n",
        "    return np.array(class_images)\n",
        "\n",
        "covid_images = load_images(covid_directory)\n",
        "normal_images = load_images(normal_directory)\n",
        "pneumonia_images = load_images(pneumonia_directory)\n",
        "\n",
        "print(covid_images.shape)\n",
        "print(normal_images.shape)\n",
        "print(pneumonia_images.shape)"
      ],
      "metadata": {
        "execution": {
          "iopub.status.busy": "2024-03-19T12:03:09.392605Z",
          "iopub.execute_input": "2024-03-19T12:03:09.393228Z",
          "iopub.status.idle": "2024-03-19T12:04:32.406777Z",
          "shell.execute_reply.started": "2024-03-19T12:03:09.393193Z",
          "shell.execute_reply": "2024-03-19T12:04:32.405399Z"
        },
        "trusted": true,
        "id": "W9pjhgDYuvKK",
        "outputId": "0d6fa4dc-b8f3-4227-884c-483fec2dda77",
        "colab": {
          "base_uri": "https://localhost:8080/"
        }
      },
      "execution_count": null,
      "outputs": [
        {
          "output_type": "error",
          "ename": "FileNotFoundError",
          "evalue": "[Errno 2] No such file or directory: '/content/gdrive/MyDrive/New Images for Classification/COVID-19'",
          "traceback": [
            "\u001b[0;31m---------------------------------------------------------------------------\u001b[0m",
            "\u001b[0;31mFileNotFoundError\u001b[0m                         Traceback (most recent call last)",
            "\u001b[0;32m<ipython-input-3-afb51a689f38>\u001b[0m in \u001b[0;36m<cell line: 20>\u001b[0;34m()\u001b[0m\n\u001b[1;32m     18\u001b[0m     \u001b[0;32mreturn\u001b[0m \u001b[0mnp\u001b[0m\u001b[0;34m.\u001b[0m\u001b[0marray\u001b[0m\u001b[0;34m(\u001b[0m\u001b[0mclass_images\u001b[0m\u001b[0;34m)\u001b[0m\u001b[0;34m\u001b[0m\u001b[0;34m\u001b[0m\u001b[0m\n\u001b[1;32m     19\u001b[0m \u001b[0;34m\u001b[0m\u001b[0m\n\u001b[0;32m---> 20\u001b[0;31m \u001b[0mcovid_images\u001b[0m \u001b[0;34m=\u001b[0m \u001b[0mload_images\u001b[0m\u001b[0;34m(\u001b[0m\u001b[0mcovid_directory\u001b[0m\u001b[0;34m)\u001b[0m\u001b[0;34m\u001b[0m\u001b[0;34m\u001b[0m\u001b[0m\n\u001b[0m\u001b[1;32m     21\u001b[0m \u001b[0mnormal_images\u001b[0m \u001b[0;34m=\u001b[0m \u001b[0mload_images\u001b[0m\u001b[0;34m(\u001b[0m\u001b[0mnormal_directory\u001b[0m\u001b[0;34m)\u001b[0m\u001b[0;34m\u001b[0m\u001b[0;34m\u001b[0m\u001b[0m\n\u001b[1;32m     22\u001b[0m \u001b[0mpneumonia_images\u001b[0m \u001b[0;34m=\u001b[0m \u001b[0mload_images\u001b[0m\u001b[0;34m(\u001b[0m\u001b[0mpneumonia_directory\u001b[0m\u001b[0;34m)\u001b[0m\u001b[0;34m\u001b[0m\u001b[0;34m\u001b[0m\u001b[0m\n",
            "\u001b[0;32m<ipython-input-3-afb51a689f38>\u001b[0m in \u001b[0;36mload_images\u001b[0;34m(directory)\u001b[0m\n\u001b[1;32m      7\u001b[0m \u001b[0;32mdef\u001b[0m \u001b[0mload_images\u001b[0m\u001b[0;34m(\u001b[0m\u001b[0mdirectory\u001b[0m\u001b[0;34m)\u001b[0m\u001b[0;34m:\u001b[0m\u001b[0;34m\u001b[0m\u001b[0;34m\u001b[0m\u001b[0m\n\u001b[1;32m      8\u001b[0m     \u001b[0mclass_images\u001b[0m \u001b[0;34m=\u001b[0m \u001b[0;34m[\u001b[0m\u001b[0;34m]\u001b[0m\u001b[0;34m\u001b[0m\u001b[0;34m\u001b[0m\u001b[0m\n\u001b[0;32m----> 9\u001b[0;31m     \u001b[0;32mfor\u001b[0m \u001b[0mfilename\u001b[0m \u001b[0;32min\u001b[0m \u001b[0mos\u001b[0m\u001b[0;34m.\u001b[0m\u001b[0mlistdir\u001b[0m\u001b[0;34m(\u001b[0m\u001b[0mdirectory\u001b[0m\u001b[0;34m)\u001b[0m\u001b[0;34m:\u001b[0m\u001b[0;34m\u001b[0m\u001b[0;34m\u001b[0m\u001b[0m\n\u001b[0m\u001b[1;32m     10\u001b[0m         \u001b[0mimage_path\u001b[0m \u001b[0;34m=\u001b[0m \u001b[0mos\u001b[0m\u001b[0;34m.\u001b[0m\u001b[0mpath\u001b[0m\u001b[0;34m.\u001b[0m\u001b[0mjoin\u001b[0m\u001b[0;34m(\u001b[0m\u001b[0mdirectory\u001b[0m\u001b[0;34m,\u001b[0m \u001b[0mfilename\u001b[0m\u001b[0;34m)\u001b[0m\u001b[0;34m\u001b[0m\u001b[0;34m\u001b[0m\u001b[0m\n\u001b[1;32m     11\u001b[0m         \u001b[0mimage\u001b[0m \u001b[0;34m=\u001b[0m \u001b[0mcv2\u001b[0m\u001b[0;34m.\u001b[0m\u001b[0mimread\u001b[0m\u001b[0;34m(\u001b[0m\u001b[0mimage_path\u001b[0m\u001b[0;34m)\u001b[0m\u001b[0;34m\u001b[0m\u001b[0;34m\u001b[0m\u001b[0m\n",
            "\u001b[0;31mFileNotFoundError\u001b[0m: [Errno 2] No such file or directory: '/content/gdrive/MyDrive/New Images for Classification/COVID-19'"
          ]
        }
      ]
    },
    {
      "cell_type": "code",
      "source": [
        "fig, ax = plt.subplots(ncols=3, figsize = (20,20))\n",
        "ax[0].imshow(covid_images[0])\n",
        "ax[0].title.set_text(\"Covid 19\")\n",
        "ax[1].imshow(normal_images[0])\n",
        "ax[1].title.set_text(\"Normal\")\n",
        "ax[2].imshow(pneumonia_images[0])\n",
        "ax[2].title.set_text(\"Pneumonia\")"
      ],
      "metadata": {
        "execution": {
          "iopub.status.busy": "2024-03-19T12:05:53.997233Z",
          "iopub.execute_input": "2024-03-19T12:05:53.997879Z"
        },
        "trusted": true,
        "id": "SQtFruzvuvKL"
      },
      "execution_count": null,
      "outputs": []
    },
    {
      "cell_type": "code",
      "source": [
        "all_images = np.concatenate((covid_images, normal_images, pneumonia_images), axis=0)\n",
        "print(all_images.shape)\n",
        "covid_labels = np.zeros(len(covid_images), dtype=np.int32)\n",
        "pneumonia_labels = np.ones(len(pneumonia_images), dtype=np.int32)\n",
        "normal_labels = np.full(len(normal_images), 2, dtype=np.int32)\n",
        "\n",
        "all_labels = np.concatenate((covid_labels, normal_labels, pneumonia_labels), axis=0)\n",
        "print(all_labels.shape)"
      ],
      "metadata": {
        "execution": {
          "iopub.status.busy": "2024-03-19T12:05:58.47383Z",
          "iopub.execute_input": "2024-03-19T12:05:58.474265Z",
          "iopub.status.idle": "2024-03-19T12:05:59.257487Z",
          "shell.execute_reply.started": "2024-03-19T12:05:58.474232Z",
          "shell.execute_reply": "2024-03-19T12:05:59.256049Z"
        },
        "trusted": true,
        "id": "DBbBprRDuvKL"
      },
      "execution_count": null,
      "outputs": []
    },
    {
      "cell_type": "code",
      "source": [
        "from collections import Counter\n",
        "from imblearn.over_sampling import SMOTE\n",
        "\n",
        "class_counts = Counter(all_labels)\n",
        "minority_class = min(class_counts, key=class_counts.get)\n",
        "desired_ratio = dict(Counter(class_counts))\n",
        "desired_ratio[minority_class] = len(all_images) // len(class_counts)\n",
        "\n",
        "sm = SMOTE(sampling_strategy=desired_ratio, random_state=42)\n",
        "flattened_images = all_images.reshape(all_images.shape[0], -1)\n",
        "resampled_images, resampled_labels = sm.fit_resample(flattened_images, all_labels)"
      ],
      "metadata": {
        "id": "oqfi_3rEC_sP"
      },
      "execution_count": null,
      "outputs": []
    },
    {
      "cell_type": "code",
      "source": [
        "class_counts_resampled = Counter(resampled_labels)\n",
        "print(class_counts_resampled)\n",
        "resampled_images.shape"
      ],
      "metadata": {
        "id": "5ErDPPNNMF1B"
      },
      "execution_count": null,
      "outputs": []
    },
    {
      "cell_type": "code",
      "source": [
        "original_shape = all_images.shape[1:]\n",
        "new_images_res = resampled_images.reshape(-1, *original_shape)\n",
        "print(new_images_res.shape)"
      ],
      "metadata": {
        "colab": {
          "base_uri": "https://localhost:8080/"
        },
        "id": "oGBF61ofWJl2",
        "outputId": "d3902635-3e52-4220-e4d9-da11940e0772"
      },
      "execution_count": null,
      "outputs": [
        {
          "output_type": "stream",
          "name": "stdout",
          "text": [
            "(3126, 224, 224, 3)\n"
          ]
        }
      ]
    },
    {
      "cell_type": "code",
      "source": [
        "print(resampled_labels.shape)"
      ],
      "metadata": {
        "colab": {
          "base_uri": "https://localhost:8080/"
        },
        "id": "Z6GMzeUgWoyP",
        "outputId": "7b5d664b-fc83-470f-e691-6b6d6e4b10e2"
      },
      "execution_count": null,
      "outputs": [
        {
          "output_type": "stream",
          "name": "stdout",
          "text": [
            "(3126,)\n"
          ]
        }
      ]
    },
    {
      "cell_type": "code",
      "source": [
        "train_val_split, test_split = 0.8, 0.2\n",
        "X_train_val, X_test, y_train_val, y_test = train_test_split(new_images_res, resampled_labels, train_size = train_val_split, test_size = test_split, random_state=42, stratify=resampled_labels)\n",
        "train_split, val_split = 0.8, 0.2\n",
        "X_train, X_val, y_train, y_val = train_test_split(X_train_val, y_train_val, train_size=train_split, test_size=val_split, random_state=42, stratify=y_train_val)\n",
        "\n",
        "import torch\n",
        "from torch import nn\n",
        "from torchvision import models\n",
        "\n",
        "def create_model():\n",
        "    model = models.resnet34(weights='DEFAULT')\n",
        "    for parameter in model.parameters():\n",
        "        parameter.requires_grad = True\n",
        "\n",
        "    input_features = model.fc.in_features\n",
        "    model.fc = nn.Sequential(\n",
        "      nn.Dropout(p=0.6),\n",
        "      nn.Linear(input_features, 3),\n",
        "      nn.Softmax(dim=1)\n",
        "  )\n",
        "\n",
        "    return model\n",
        "\n",
        "model = create_model()\n",
        "\n",
        "\n",
        "\n",
        "\n",
        "\n"
      ],
      "metadata": {
        "execution": {
          "iopub.status.busy": "2024-03-19T12:40:05.683842Z",
          "iopub.execute_input": "2024-03-19T12:40:05.68438Z",
          "iopub.status.idle": "2024-03-19T12:40:07.064454Z",
          "shell.execute_reply.started": "2024-03-19T12:40:05.684343Z",
          "shell.execute_reply": "2024-03-19T12:40:07.063345Z"
        },
        "trusted": true,
        "id": "IHDw8UdZuvKM"
      },
      "execution_count": null,
      "outputs": []
    },
    {
      "cell_type": "code",
      "source": [
        "from torch.utils.data import DataLoader, TensorDataset\n",
        "\n",
        "criterion = nn.CrossEntropyLoss()\n",
        "optimizer = torch.optim.Adam(model.parameters(), lr=0.0001, weight_decay=1e-2)\n",
        "\n",
        "num_epochs = 5\n",
        "batch_size= 64\n",
        "\n",
        "\n",
        "X_train = torch.tensor(X_train)\n",
        "y_train = torch.tensor(y_train)\n",
        "X_val = torch.tensor(X_val)\n",
        "y_val = torch.tensor(y_val)\n",
        "\n",
        "device = torch.device(\"cuda:0\" if torch.cuda.is_available() else \"cpu\")\n",
        "print(device)\n",
        "model.to(device)\n",
        "\n",
        "X_train = X_train.to(device)\n",
        "y_train = y_train.to(device)\n",
        "X_val = X_val.to(device)\n",
        "y_val = y_val.to(device)\n",
        "\n",
        "def calculate_accuracy(outputs, labels):\n",
        "    _, predicted = torch.max(outputs, 1)\n",
        "    correct = (predicted == labels).sum().item()\n",
        "    total = labels.size(0)\n",
        "    accuracy = correct / total\n",
        "    return accuracy\n",
        "\n",
        "\n",
        "train_dataset = torch.utils.data.TensorDataset(X_train, y_train)\n",
        "validation_dataset = torch.utils.data.TensorDataset(X_val, y_val)\n",
        "\n",
        "train_data_loader = DataLoader(train_dataset, batch_size=batch_size, shuffle=True)\n",
        "validation_data_loader = DataLoader(validation_dataset, batch_size=batch_size, shuffle=False)\n",
        "\n",
        "\n",
        "train_acc_list = []\n",
        "\n",
        "for epoch in range(num_epochs):\n",
        "    model.train()\n",
        "    total_loss = 0.0\n",
        "    total_accuracy = 0.0\n",
        "    for i, (images, labels) in enumerate(train_data_loader):\n",
        "        images = images.to(device)\n",
        "        labels = labels.to(device)\n",
        "        images = images.permute(0, 3, 1, 2)\n",
        "        optimizer.zero_grad()\n",
        "        labels = labels.long()\n",
        "        outputs = model(images)\n",
        "        num_classes = 3\n",
        "        one_hot_labels = torch.nn.functional.one_hot(labels, num_classes)\n",
        "        proper_labels = torch.argmax(one_hot_labels, dim=1)\n",
        "        loss = criterion(outputs, proper_labels)\n",
        "        loss.backward()\n",
        "        optimizer.step()\n",
        "\n",
        "\n",
        "        total_loss += loss.item()\n",
        "\n",
        "\n",
        "        accuracy = calculate_accuracy(outputs, proper_labels)\n",
        "        total_accuracy += accuracy\n",
        "\n",
        "        if (i + 1) % 10 == 0 or i + 1 == len(train_data_loader):\n",
        "            avg_loss = total_loss / (i + 1)\n",
        "            avg_accuracy = total_accuracy / (i + 1)\n",
        "\n",
        "\n",
        "            print(f\"Epoch [{epoch+1}/{num_epochs}], Step [{i+1}/{len(train_data_loader)}], \"\n",
        "                  f\"Loss: {avg_loss:.4f}, Accuracy: {avg_accuracy:.4f}\")\n",
        "\n",
        "\n",
        "    avg_epoch_loss = total_loss / len(train_data_loader)\n",
        "    avg_epoch_accuracy = (100 * total_accuracy) / len(train_data_loader)\n",
        "    train_acc_list.append(avg_epoch_accuracy)\n",
        "    print(f\"Epoch [{epoch+1}/{num_epochs}], Average Loss: {avg_epoch_loss:.4f}, \"\n",
        "          f\"Average Accuracy: {avg_epoch_accuracy:.4f}\")\n",
        "\n",
        "print(\"Training complete\")\n",
        "\n",
        "\n"
      ],
      "metadata": {
        "execution": {
          "iopub.status.busy": "2024-03-19T12:40:13.045739Z",
          "iopub.execute_input": "2024-03-19T12:40:13.046159Z",
          "iopub.status.idle": "2024-03-19T12:40:34.134411Z",
          "shell.execute_reply.started": "2024-03-19T12:40:13.046127Z",
          "shell.execute_reply": "2024-03-19T12:40:34.132366Z"
        },
        "trusted": true,
        "id": "4KOjNI01uvKN",
        "colab": {
          "base_uri": "https://localhost:8080/"
        },
        "outputId": "7b20ee20-0513-406b-d741-700254c4a61a"
      },
      "execution_count": null,
      "outputs": [
        {
          "output_type": "stream",
          "name": "stdout",
          "text": [
            "cuda:0\n",
            "Epoch [1/5], Step [10/32], Loss: 0.9532, Accuracy: 0.5813\n",
            "Epoch [1/5], Step [20/32], Loss: 0.8855, Accuracy: 0.6555\n",
            "Epoch [1/5], Step [30/32], Loss: 0.8444, Accuracy: 0.6974\n",
            "Epoch [1/5], Step [32/32], Loss: 0.8381, Accuracy: 0.7041\n",
            "Epoch [1/5], Average Loss: 0.8381, Average Accuracy: 70.4102\n",
            "Epoch [2/5], Step [10/32], Loss: 0.6993, Accuracy: 0.8500\n",
            "Epoch [2/5], Step [20/32], Loss: 0.6929, Accuracy: 0.8570\n",
            "Epoch [2/5], Step [30/32], Loss: 0.6954, Accuracy: 0.8562\n",
            "Epoch [2/5], Step [32/32], Loss: 0.6956, Accuracy: 0.8560\n",
            "Epoch [2/5], Average Loss: 0.6956, Average Accuracy: 85.5957\n",
            "Epoch [3/5], Step [10/32], Loss: 0.6591, Accuracy: 0.8938\n",
            "Epoch [3/5], Step [20/32], Loss: 0.6573, Accuracy: 0.8953\n",
            "Epoch [3/5], Step [30/32], Loss: 0.6544, Accuracy: 0.8990\n",
            "Epoch [3/5], Step [32/32], Loss: 0.6522, Accuracy: 0.9014\n",
            "Epoch [3/5], Average Loss: 0.6522, Average Accuracy: 90.1367\n",
            "Epoch [4/5], Step [10/32], Loss: 0.6170, Accuracy: 0.9391\n",
            "Epoch [4/5], Step [20/32], Loss: 0.6210, Accuracy: 0.9367\n",
            "Epoch [4/5], Step [30/32], Loss: 0.6219, Accuracy: 0.9344\n",
            "Epoch [4/5], Step [32/32], Loss: 0.6207, Accuracy: 0.9360\n",
            "Epoch [4/5], Average Loss: 0.6207, Average Accuracy: 93.6035\n",
            "Epoch [5/5], Step [10/32], Loss: 0.6193, Accuracy: 0.9344\n",
            "Epoch [5/5], Step [20/32], Loss: 0.6175, Accuracy: 0.9344\n",
            "Epoch [5/5], Step [30/32], Loss: 0.6198, Accuracy: 0.9359\n",
            "Epoch [5/5], Step [32/32], Loss: 0.6240, Accuracy: 0.9302\n",
            "Epoch [5/5], Average Loss: 0.6240, Average Accuracy: 93.0176\n",
            "Training complete\n"
          ]
        }
      ]
    },
    {
      "cell_type": "code",
      "source": [
        "val_accuracy_list = []\n",
        "model.eval()\n",
        "with torch.no_grad():\n",
        "  val_loss = 0.0\n",
        "  val_correct = 0\n",
        "  total_samples = 0\n",
        "  for epoch in range(0, num_epochs):\n",
        "    for i, (images, labels) in enumerate(validation_data_loader):\n",
        "      images.to(device)\n",
        "      labels.to(device)\n",
        "      images = images.permute(0,3,1,2)\n",
        "      labels = labels.long()\n",
        "      outputs = model(images)\n",
        "      val_loss += criterion(outputs, labels).item() * images.size(0)\n",
        "      _, predicted = torch.max(outputs.data, 1)\n",
        "      val_correct += (predicted == labels).sum().item()\n",
        "      total_samples += labels.shape[0]\n",
        "\n",
        "    val_accuracy = 100.0 * val_correct / total_samples\n",
        "    avg_loss = val_loss / total_samples\n",
        "    val_accuracy_list.append(val_accuracy)\n",
        "    print(f\"Epoch [{epoch+1}/{num_epochs}], Validation Loss: {avg_loss:.4f}, Validation Accuracy: {val_accuracy:.2f}%\")"
      ],
      "metadata": {
        "id": "IpZq8lMjuvKO",
        "colab": {
          "base_uri": "https://localhost:8080/"
        },
        "outputId": "f39274a3-1fc1-456c-e8e3-f534d010a566"
      },
      "execution_count": null,
      "outputs": [
        {
          "output_type": "stream",
          "name": "stdout",
          "text": [
            "Epoch [1/5], Validation Loss: 0.6916, Validation Accuracy: 86.20%\n",
            "Epoch [2/5], Validation Loss: 0.6916, Validation Accuracy: 86.20%\n",
            "Epoch [3/5], Validation Loss: 0.6916, Validation Accuracy: 86.20%\n",
            "Epoch [4/5], Validation Loss: 0.6916, Validation Accuracy: 86.20%\n",
            "Epoch [5/5], Validation Loss: 0.6916, Validation Accuracy: 86.20%\n"
          ]
        }
      ]
    },
    {
      "cell_type": "code",
      "source": [
        "print(train_acc_list)\n",
        "print(val_accuracy_list)\n",
        "plt.plot(range(1, len(train_acc_list) + 1), train_acc_list, label='Training Accuracy')\n",
        "plt.plot(range(1, len(val_accuracy_list) + 1), val_accuracy_list, label='Validation Accuracy')\n",
        "plt.xlabel('Epoch')\n",
        "plt.ylabel('Accuracy')\n",
        "plt.title('Training and Validation Accuracy')\n",
        "plt.legend()\n",
        "plt.grid(True)\n",
        "plt.show()\n"
      ],
      "metadata": {
        "id": "JQXBHP1TvOIW",
        "colab": {
          "base_uri": "https://localhost:8080/",
          "height": 508
        },
        "outputId": "54a5ee94-cbf9-493c-b461-6c46c460eab6"
      },
      "execution_count": null,
      "outputs": [
        {
          "output_type": "stream",
          "name": "stdout",
          "text": [
            "[70.41015625, 85.595703125, 90.13671875, 93.603515625, 93.017578125]\n",
            "[86.2, 86.2, 86.2, 86.2, 86.2]\n"
          ]
        },
        {
          "output_type": "display_data",
          "data": {
            "text/plain": [
              "<Figure size 640x480 with 1 Axes>"
            ],
            "image/png": "[encoded data removed]"
          },
          "metadata": {}
        }
      ]
    },
    {
      "cell_type": "code",
      "source": [
        "X_test = torch.tensor(X_test)\n",
        "y_test = torch.tensor(y_test)\n",
        "X_test = X_test.to(device)\n",
        "y_test = y_test.to(device)\n",
        "\n",
        "test_data_loader = DataLoader(torch.utils.data.TensorDataset(X_test, y_test), batch_size=batch_size, shuffle=False)\n",
        "\n",
        "model.eval()\n",
        "with torch.no_grad():\n",
        "  test_loss = 0.0\n",
        "  test_correct = 0\n",
        "  total_samples = 0\n",
        "  predicted_labels = []\n",
        "  true_labels = []\n",
        "  for i, (images, labels) in enumerate(test_data_loader):\n",
        "    images = images.permute(0,3,1,2)\n",
        "    labels = labels.long()\n",
        "    outputs = model(images)\n",
        "    test_loss += criterion(outputs, labels).item() * images.size(0)\n",
        "    _, predicted = torch.max(outputs.data, 1)\n",
        "    test_correct += (predicted == labels).sum().item()\n",
        "    total_samples += labels.shape[0]\n",
        "\n",
        "    predicted_labels.extend(predicted.cpu().tolist())\n",
        "    true_labels.extend(labels.cpu().tolist())\n",
        "\n",
        "  test_accuracy = 100.0 * test_correct / total_samples\n",
        "  test_loss = test_loss / total_samples\n",
        "\n",
        "  from sklearn.metrics import accuracy_score, f1_score, recall_score, precision_score\n",
        "\n",
        "  accuracy = accuracy_score(true_labels, predicted_labels)\n",
        "  precision = precision_score(true_labels, predicted_labels, average='macro')\n",
        "  recall = recall_score(true_labels, predicted_labels, average='macro')\n",
        "  f1 = f1_score(true_labels, predicted_labels, average='macro')\n",
        "\n",
        "  print(f\"Testing Loss: {test_loss:.4f}, Testing Accuracy: {test_accuracy:.2f}%\")\n",
        "  print(f\"Accuracy Score: {accuracy:.4f}\")\n",
        "  print(f\"Macro Precision: {precision:.4f}\")\n",
        "  print(f\"Macro Recall: {recall:.4f}\")\n",
        "  print(f\"Macro F1-Score: {f1:.4f}\")"
      ],
      "metadata": {
        "id": "KYU7Kg7Hvef4",
        "colab": {
          "base_uri": "https://localhost:8080/"
        },
        "outputId": "52887905-7dd8-491e-e372-4c71a9937bd9"
      },
      "execution_count": null,
      "outputs": [
        {
          "output_type": "stream",
          "name": "stdout",
          "text": [
            "Testing Loss: 0.6890, Testing Accuracy: 85.46%\n",
            "Accuracy Score: 0.8546\n",
            "Macro Precision: 0.8562\n",
            "Macro Recall: 0.8574\n",
            "Macro F1-Score: 0.8556\n"
          ]
        }
      ]
    },
    {
      "cell_type": "code",
      "source": [
        "micro_precision = precision_score(true_labels, predicted_labels, average='micro')\n",
        "micro_recall = recall_score(true_labels, predicted_labels, average='micro')\n",
        "micro_f1 = f1_score(true_labels, predicted_labels, average='micro')\n",
        "\n",
        "print(f\"Micro Precision: {micro_precision:.4f}\")\n",
        "print(f\"Micro Recall: {micro_recall:.4f}\")\n",
        "print(f\"Micro F1-Score: {micro_f1:.4f}\")\n",
        "\n",
        "from sklearn.metrics import confusion_matrix\n",
        "class_labels = ['COVID19', 'Pneumonia', 'Normal']\n",
        "\n",
        "cm = confusion_matrix(true_labels, predicted_labels)\n",
        "sns.heatmap(cm, annot=True, cbar=True, fmt='d', cmap='YlGnBu', xticklabels = class_labels, yticklabels= class_labels)\n",
        "plt.title(\"Confusion Matrix\")\n",
        "plt.xlabel(\"Predicted\")\n",
        "plt.ylabel(\"Actual\")\n",
        "plt.show()"
      ],
      "metadata": {
        "id": "KvcmsgqRwVDa",
        "colab": {
          "base_uri": "https://localhost:8080/",
          "height": 527
        },
        "outputId": "0299e773-9aa4-475c-9166-753be5bc0999"
      },
      "execution_count": null,
      "outputs": [
        {
          "output_type": "stream",
          "name": "stdout",
          "text": [
            "Micro Precision: 0.8546\n",
            "Micro Recall: 0.8546\n",
            "Micro F1-Score: 0.8546\n"
          ]
        },
        {
          "output_type": "display_data",
          "data": {
            "text/plain": [
              "<Figure size 640x480 with 2 Axes>"
            ],
            "image/png": "[encoded data removed]"
          },
          "metadata": {}
        }
      ]
    },
    {
      "cell_type": "code",
      "source": [
        "print(len(X_test), len(X_val), len(X_train))"
      ],
      "metadata": {
        "colab": {
          "base_uri": "https://localhost:8080/"
        },
        "id": "6yIq09iEStTI",
        "outputId": "01e36f55-bc75-4e63-b974-e81df1fbd239"
      },
      "execution_count": null,
      "outputs": [
        {
          "output_type": "stream",
          "name": "stdout",
          "text": [
            "626 500 2000\n"
          ]
        }
      ]
    },
    {
      "cell_type": "code",
      "source": [
        "!pip install captum"
      ],
      "metadata": {
        "id": "3bmmmKKdSD1z",
        "colab": {
          "base_uri": "https://localhost:8080/"
        },
        "outputId": "f7a687d9-4cb7-4434-d839-aa15ea658c7e"
      },
      "execution_count": null,
      "outputs": [
        {
          "output_type": "stream",
          "name": "stdout",
          "text": [
            "Collecting captum\n",
            "  Downloading captum-0.7.0-py3-none-any.whl (1.3 MB)\n",
            "\u001b[2K     \u001b[90m━━━━━━━━━━━━━━━━━━━━━━━━━━━━━━━━━━━━━━━━\u001b[0m \u001b[32m1.3/1.3 MB\u001b[0m \u001b[31m7.4 MB/s\u001b[0m eta \u001b[36m0:00:00\u001b[0m\n",
            "\u001b[?25hRequirement already satisfied: matplotlib in /usr/local/lib/python3.10/dist-packages (from captum) (3.7.1)\n",
            "Requirement already satisfied: numpy in /usr/local/lib/python3.10/dist-packages (from captum) (1.25.2)\n",
            "Requirement already satisfied: torch>=1.6 in /usr/local/lib/python3.10/dist-packages (from captum) (2.2.1+cu121)\n",
            "Requirement already satisfied: tqdm in /usr/local/lib/python3.10/dist-packages (from captum) (4.66.2)\n",
            "Requirement already satisfied: filelock in /usr/local/lib/python3.10/dist-packages (from torch>=1.6->captum) (3.13.4)\n",
            "Requirement already satisfied: typing-extensions>=4.8.0 in /usr/local/lib/python3.10/dist-packages (from torch>=1.6->captum) (4.11.0)\n",
            "Requirement already satisfied: sympy in /usr/local/lib/python3.10/dist-packages (from torch>=1.6->captum) (1.12)\n",
            "Requirement already satisfied: networkx in /usr/local/lib/python3.10/dist-packages (from torch>=1.6->captum) (3.3)\n",
            "Requirement already satisfied: jinja2 in /usr/local/lib/python3.10/dist-packages (from torch>=1.6->captum) (3.1.3)\n",
            "Requirement already satisfied: fsspec in /usr/local/lib/python3.10/dist-packages (from torch>=1.6->captum) (2023.6.0)\n",
            "Collecting nvidia-cuda-nvrtc-cu12==12.1.105 (from torch>=1.6->captum)\n",
            "  Using cached nvidia_cuda_nvrtc_cu12-12.1.105-py3-none-manylinux1_x86_64.whl (23.7 MB)\n",
            "Collecting nvidia-cuda-runtime-cu12==12.1.105 (from torch>=1.6->captum)\n",
            "  Using cached nvidia_cuda_runtime_cu12-12.1.105-py3-none-manylinux1_x86_64.whl (823 kB)\n",
            "Collecting nvidia-cuda-cupti-cu12==12.1.105 (from torch>=1.6->captum)\n",
            "  Using cached nvidia_cuda_cupti_cu12-12.1.105-py3-none-manylinux1_x86_64.whl (14.1 MB)\n",
            "Collecting nvidia-cudnn-cu12==8.9.2.26 (from torch>=1.6->captum)\n",
            "  Using cached nvidia_cudnn_cu12-8.9.2.26-py3-none-manylinux1_x86_64.whl (731.7 MB)\n",
            "Collecting nvidia-cublas-cu12==12.1.3.1 (from torch>=1.6->captum)\n",
            "  Using cached nvidia_cublas_cu12-12.1.3.1-py3-none-manylinux1_x86_64.whl (410.6 MB)\n",
            "Collecting nvidia-cufft-cu12==11.0.2.54 (from torch>=1.6->captum)\n",
            "  Using cached nvidia_cufft_cu12-11.0.2.54-py3-none-manylinux1_x86_64.whl (121.6 MB)\n",
            "Collecting nvidia-curand-cu12==10.3.2.106 (from torch>=1.6->captum)\n",
            "  Using cached nvidia_curand_cu12-10.3.2.106-py3-none-manylinux1_x86_64.whl (56.5 MB)\n",
            "Collecting nvidia-cusolver-cu12==11.4.5.107 (from torch>=1.6->captum)\n",
            "  Using cached nvidia_cusolver_cu12-11.4.5.107-py3-none-manylinux1_x86_64.whl (124.2 MB)\n",
            "Collecting nvidia-cusparse-cu12==12.1.0.106 (from torch>=1.6->captum)\n",
            "  Using cached nvidia_cusparse_cu12-12.1.0.106-py3-none-manylinux1_x86_64.whl (196.0 MB)\n",
            "Collecting nvidia-nccl-cu12==2.19.3 (from torch>=1.6->captum)\n",
            "  Using cached nvidia_nccl_cu12-2.19.3-py3-none-manylinux1_x86_64.whl (166.0 MB)\n",
            "Collecting nvidia-nvtx-cu12==12.1.105 (from torch>=1.6->captum)\n",
            "  Using cached nvidia_nvtx_cu12-12.1.105-py3-none-manylinux1_x86_64.whl (99 kB)\n",
            "Requirement already satisfied: triton==2.2.0 in /usr/local/lib/python3.10/dist-packages (from torch>=1.6->captum) (2.2.0)\n",
            "Collecting nvidia-nvjitlink-cu12 (from nvidia-cusolver-cu12==11.4.5.107->torch>=1.6->captum)\n",
            "  Using cached nvidia_nvjitlink_cu12-12.4.127-py3-none-manylinux2014_x86_64.whl (21.1 MB)\n",
            "Requirement already satisfied: contourpy>=1.0.1 in /usr/local/lib/python3.10/dist-packages (from matplotlib->captum) (1.2.1)\n",
            "Requirement already satisfied: cycler>=0.10 in /usr/local/lib/python3.10/dist-packages (from matplotlib->captum) (0.12.1)\n",
            "Requirement already satisfied: fonttools>=4.22.0 in /usr/local/lib/python3.10/dist-packages (from matplotlib->captum) (4.51.0)\n",
            "Requirement already satisfied: kiwisolver>=1.0.1 in /usr/local/lib/python3.10/dist-packages (from matplotlib->captum) (1.4.5)\n",
            "Requirement already satisfied: packaging>=20.0 in /usr/local/lib/python3.10/dist-packages (from matplotlib->captum) (24.0)\n",
            "Requirement already satisfied: pillow>=6.2.0 in /usr/local/lib/python3.10/dist-packages (from matplotlib->captum) (9.4.0)\n",
            "Requirement already satisfied: pyparsing>=2.3.1 in /usr/local/lib/python3.10/dist-packages (from matplotlib->captum) (3.1.2)\n",
            "Requirement already satisfied: python-dateutil>=2.7 in /usr/local/lib/python3.10/dist-packages (from matplotlib->captum) (2.8.2)\n",
            "Requirement already satisfied: six>=1.5 in /usr/local/lib/python3.10/dist-packages (from python-dateutil>=2.7->matplotlib->captum) (1.16.0)\n",
            "Requirement already satisfied: MarkupSafe>=2.0 in /usr/local/lib/python3.10/dist-packages (from jinja2->torch>=1.6->captum) (2.1.5)\n",
            "Requirement already satisfied: mpmath>=0.19 in /usr/local/lib/python3.10/dist-packages (from sympy->torch>=1.6->captum) (1.3.0)\n",
            "Installing collected packages: nvidia-nvtx-cu12, nvidia-nvjitlink-cu12, nvidia-nccl-cu12, nvidia-curand-cu12, nvidia-cufft-cu12, nvidia-cuda-runtime-cu12, nvidia-cuda-nvrtc-cu12, nvidia-cuda-cupti-cu12, nvidia-cublas-cu12, nvidia-cusparse-cu12, nvidia-cudnn-cu12, nvidia-cusolver-cu12, captum\n",
            "Successfully installed captum-0.7.0 nvidia-cublas-cu12-12.1.3.1 nvidia-cuda-cupti-cu12-12.1.105 nvidia-cuda-nvrtc-cu12-12.1.105 nvidia-cuda-runtime-cu12-12.1.105 nvidia-cudnn-cu12-8.9.2.26 nvidia-cufft-cu12-11.0.2.54 nvidia-curand-cu12-10.3.2.106 nvidia-cusolver-cu12-11.4.5.107 nvidia-cusparse-cu12-12.1.0.106 nvidia-nccl-cu12-2.19.3 nvidia-nvjitlink-cu12-12.4.127 nvidia-nvtx-cu12-12.1.105\n"
          ]
        }
      ]
    },
    {
      "cell_type": "code",
      "source": [],
      "metadata": {
        "id": "COwvWEIeacAP"
      },
      "execution_count": null,
      "outputs": []
    },
    {
      "cell_type": "code",
      "source": [
        "from google.colab import drive\n",
        "drive.mount('/content/gdrive')\n",
        "\n",
        "torch.save(model.state_dict(), '/content/gdrive/MyDrive/Model Checkpoints and metrics for Dataset #2 (New)/resnet34_complete_saved.pt')\n",
        "test_metrics = {\n",
        "  \"accuracy\": accuracy,\n",
        "  \"Macro precision\": precision,\n",
        "  \"Macro recall\": recall,\n",
        "  \"Macro f1_score\": f1,\n",
        "  \"Micro Precision\": micro_precision,\n",
        "  \"Micro Recall\": micro_recall,\n",
        "  \"Micro f1_score\": micro_f1,\n",
        "  \"confusion_matrix\": cm.tolist(),\n",
        "}\n",
        "\n",
        "import pickle\n",
        "with open(\"/content/gdrive/MyDrive/Model Checkpoints and metrics for Dataset #2 (New)/resnet34_complete_test_metrics.pkl\", \"wb\") as f:\n",
        "  pickle.dump(test_metrics, f)\n",
        "print(\"Done!\")\n"
      ],
      "metadata": {
        "id": "Hj1Ve3191QxR",
        "colab": {
          "base_uri": "https://localhost:8080/"
        },
        "outputId": "cc2c0f7e-014a-4084-c99f-a8d501ae15e4"
      },
      "execution_count": null,
      "outputs": [
        {
          "output_type": "stream",
          "name": "stdout",
          "text": [
            "Drive already mounted at /content/gdrive; to attempt to forcibly remount, call drive.mount(\"/content/gdrive\", force_remount=True).\n",
            "Done!\n"
          ]
        }
      ]
    }
  ]
}